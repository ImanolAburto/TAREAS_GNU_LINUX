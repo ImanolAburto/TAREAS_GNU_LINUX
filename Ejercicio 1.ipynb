{
 "cells": [
  {
   "cell_type": "markdown",
   "id": "0db3d28d-d676-4482-ac30-ffed8aaf5bcb",
   "metadata": {},
   "source": [
    "# Ejercicio 1\n",
    "Se obtiene el número de ocurrencias de los compuestos en el archivo \"lista.dat\""
   ]
  },
  {
   "cell_type": "code",
   "execution_count": 3,
   "id": "0dec4de7-2d5a-44b4-b4f8-546647c6b1f9",
   "metadata": {},
   "outputs": [
    {
     "name": "stdout",
     "output_type": "stream",
     "text": [
      "01/01/2021 02:00,CO,ACO\n",
      "01/01/2021 01:00,CO,AJM\n",
      "01/01/2021 02:00,CO,ATI\n",
      "01/01/2021 01:00,CO,BJU\n",
      "01/01/2021 02:00,CO,CAM\n",
      "01/01/2021 02:00,CO,CCA\n",
      "01/01/2021 02:00,CO,CHO\n",
      "01/01/2021 02:00,CO,CUA\n",
      "01/01/2021 01:00,CO,FAR\n",
      "01/01/2021 01:00,CO,INN\n",
      "01/01/2021 01:00,CO,MGH\n",
      "01/01/2021 02:00,CO,MON\n",
      "01/01/2021 01:00,CO,MPA\n",
      "01/01/2021 01:00,CO,SAC\n",
      "01/01/2021 02:00,NO2,ACO\n",
      "01/01/2021 01:00,NO2,AJM\n",
      "01/01/2021 02:00,NO2,ATI\n",
      "01/01/2021 01:00,NO2,BJU\n",
      "01/01/2021 02:00,NO2,CAM\n",
      "01/01/2021 02:00,NO2,CCA\n",
      "01/01/2021 02:00,NO2,CHO\n",
      "01/01/2021 02:00,NO2,COY\n",
      "01/01/2021 02:00,NO2,CUA\n",
      "01/01/2021 01:00,NO2,FAR\n",
      "01/01/2021 01:00,NO2,GAM\n",
      "01/01/2021 01:00,NO2,MGH\n",
      "01/01/2021 02:00,NO2,MON\n",
      "01/01/2021 01:00,NO2,MPA\n",
      "01/01/2021 01:00,NO2,SAC\n",
      "01/01/2021 02:00,NO,ACO\n",
      "01/01/2021 01:00,NO,AJM\n",
      "01/01/2021 02:00,NO,ATI\n",
      "01/01/2021 02:00,NO,CAM\n",
      "01/01/2021 02:00,NO,CCA\n",
      "01/01/2021 02:00,NO,CHO\n",
      "01/01/2021 02:00,NO,COY\n",
      "01/01/2021 02:00,NO,CUA\n",
      "01/01/2021 01:00,NO,FAR\n",
      "01/01/2021 01:00,NO,MGH\n",
      "01/01/2021 02:00,NO,MON\n",
      "01/01/2021 01:00,NO,SAC\n",
      "01/01/2021 02:00,NOX,ACO\n",
      "01/01/2021 01:00,NOX,AJM\n",
      "01/01/2021 02:00,NOX,ATI\n",
      "01/01/2021 02:00,NOX,CAM\n",
      "01/01/2021 01:00,NOX,CCA\n",
      "01/01/2021 02:00,NOX,CHO\n",
      "01/01/2021 02:00,NOX,COY\n",
      "01/01/2021 01:00,NOX,FAR\n",
      "01/01/2021 01:00,NOX,MGH\n",
      "01/01/2021 02:00,NOX,MON\n",
      "01/01/2021 01:00,NOX,SAC\n",
      "01/01/2021 02:00,O3,ACO\n",
      "01/01/2021 01:00,O3,AJM\n",
      "01/01/2021 02:00,O3,AJU\n",
      "01/01/2021 02:00,O3,ATI\n",
      "01/01/2021 01:00,O3,BJU\n",
      "01/01/2021 02:00,O3,CAM\n",
      "01/01/2021 01:00,O3,CCA\n",
      "01/01/2021 02:00,O3,CHO\n",
      "01/01/2021 02:00,O3,COY\n",
      "01/01/2021 01:00,O3,FAR\n",
      "01/01/2021 01:00,O3,GAM\n",
      "01/01/2021 01:00,O3,INN\n",
      "01/01/2021 01:00,O3,MGH\n",
      "01/01/2021 02:00,O3,MON\n",
      "01/01/2021 01:00,O3,MPA\n",
      "01/01/2021 01:00,O3,SAC\n",
      "01/01/2021 02:00,PM10,ACO\n",
      "01/01/2021 01:00,PM10,AJM\n",
      "01/01/2021 02:00,PM10,ATI\n",
      "01/01/2021 01:00,PM10,BJU\n",
      "01/01/2021 02:00,PM10,CAM\n",
      "01/01/2021 02:00,PM10,CHO\n",
      "01/01/2021 01:00,PM10,GAM\n",
      "01/01/2021 01:00,PM10,INN\n",
      "01/01/2021 01:00,PM10,MGH\n",
      "01/01/2021 01:00,PM10,MPA\n",
      "01/01/2021 01:00,PM2.5,AJM\n",
      "01/01/2021 02:00,PM2.5,AJU\n",
      "01/01/2021 01:00,PM2.5,BJU\n",
      "01/01/2021 02:00,PM2.5,CAM\n",
      "01/01/2021 01:00,PM2.5,CCA\n",
      "01/01/2021 02:00,PM2.5,COY\n",
      "01/01/2021 01:00,PM2.5,FAR\n",
      "01/01/2021 01:00,PM2.5,GAM\n",
      "01/01/2021 01:00,PM2.5,INN\n",
      "01/01/2021 01:00,PM2.5,MGH\n",
      "01/01/2021 02:00,PM2.5,MON\n",
      "01/01/2021 01:00,PM2.5,MPA\n",
      "01/01/2021 01:00,PM2.5,SAC\n",
      "01/01/2021 01:00,PMCO,AJM\n",
      "01/01/2021 01:00,PMCO,BJU\n",
      "01/01/2021 02:00,PMCO,CAM\n",
      "01/01/2021 01:00,PMCO,GAM\n",
      "01/01/2021 01:00,PMCO,INN\n",
      "01/01/2021 01:00,PMCO,MGH\n",
      "01/01/2021 01:00,PMCO,MPA\n",
      "01/01/2021 02:00,SO2,ACO\n",
      "01/01/2021 01:00,SO2,AJM\n",
      "01/01/2021 02:00,SO2,ATI\n",
      "01/01/2021 01:00,SO2,BJU\n",
      "01/01/2021 02:00,SO2,CAM\n",
      "01/01/2021 01:00,SO2,CCA\n",
      "01/01/2021 02:00,SO2,CHO\n",
      "01/01/2021 01:00,SO2,FAR\n",
      "01/01/2021 01:00,SO2,INN\n",
      "01/01/2021 01:00,SO2,MGH\n",
      "01/01/2021 02:00,SO2,MON\n",
      "01/01/2021 01:00,SO2,MPA\n",
      "01/01/2021 01:00,SO2,SAC\n"
     ]
    }
   ],
   "source": [
    "cd $HOME/TAREAS/IAA\n",
    "sort -u -k2 -t\",\" lista.dat"
   ]
  },
  {
   "cell_type": "code",
   "execution_count": 13,
   "id": "70ca67d1-8b94-4465-8c72-1150c37d85cc",
   "metadata": {},
   "outputs": [
    {
     "name": "stdout",
     "output_type": "stream",
     "text": [
      "CO\n",
      "NO\n",
      "NO2\n",
      "NOX\n",
      "O3\n",
      "PM10\n",
      "PM2.5\n",
      "PMCO\n",
      "SO2\n"
     ]
    }
   ],
   "source": [
    "cut -d, -f2 lista.dat|sort |uniq"
   ]
  },
  {
   "cell_type": "code",
   "execution_count": 9,
   "id": "c130960f-dc81-496e-a96c-f2967f00c904",
   "metadata": {},
   "outputs": [
    {
     "name": "stdout",
     "output_type": "stream",
     "text": [
      "CO\n",
      "NO\n",
      "NO2\n",
      "NOX\n",
      "O3\n",
      "PM10\n",
      "PM2.5\n",
      "PMCO\n",
      "SO2\n"
     ]
    }
   ],
   "source": [
    "cut -d, -f2 lista.dat | sort -u"
   ]
  },
  {
   "cell_type": "code",
   "execution_count": 34,
   "id": "e5a600e2-590a-45dd-8425-b5fbe3c3aa5c",
   "metadata": {},
   "outputs": [
    {
     "name": "stdout",
     "output_type": "stream",
     "text": [
      "CO NO NO2 NOX O3 PM10 PM2.5 PMCO SO2\n"
     ]
    }
   ],
   "source": [
    "\n",
    "compuesto=$(cut -d, -f2 lista.dat | sort -u) #Debe de ir pegado el signo de igual, sin espacios entre nombre de variable \"compuesto\" y su valor\n",
    "echo $compuesto"
   ]
  },
  {
   "cell_type": "code",
   "execution_count": 43,
   "id": "5913a185-c9c2-4e21-97c7-bf77cdff9be2",
   "metadata": {},
   "outputs": [
    {
     "name": "stdout",
     "output_type": "stream",
     "text": [
      "36\n",
      "CO NO NO2 NOX O3 PM10 PM2.5 PMCO SO2\n",
      " La variable\t \u001b[0;31mCO\u001b[0M ocurre\t 47 veces\n",
      " La variable\t \u001b[0;31mNO\u001b[0M ocurre\t 48 veces\n",
      " La variable\t \u001b[0;31mNO2\u001b[0M ocurre\t 20 veces\n",
      " La variable\t \u001b[0;31mNOX\u001b[0M ocurre\t 14 veces\n",
      " La variable\t \u001b[0;31mO3\u001b[0M ocurre\t 22 veces\n",
      " La variable\t \u001b[0;31mPM10\u001b[0M ocurre\t 15 veces\n",
      " La variable\t \u001b[0;31mPM2.5\u001b[0M ocurre\t 18 veces\n",
      " La variable\t \u001b[0;31mPMCO\u001b[0M ocurre\t 11 veces\n",
      " La variable\t \u001b[0;31mSO2\u001b[0M ocurre\t 19 veces\n",
      "I \u001b[0;31mlove\u001b[0M Stack Overflow\n"
     ]
    }
   ],
   "source": [
    "compuesto=$(cut -d, -f2 lista.dat | sort -u) #Debe de ir pegado el signo de igual, sin espacios entre nombre de variable \"compuesto\" y su valor\n",
    "echo ${#compuesto}\n",
    "echo $compuesto\n",
    "RED='\\033[0;31m'\n",
    "NC='\\033[0M' #No Color\n",
    "for txt in $compuesto\n",
    "do\n",
    "num=$(grep  $txt lista.dat | wc -l)\n",
    "printf \" La variable\\t ${RED}$txt${NC} ocurre\\t $num veces\\n\"\n",
    "done\n",
    "printf \"I ${RED}love${NC} Stack Overflow\\n\""
   ]
  },
  {
   "cell_type": "code",
   "execution_count": null,
   "id": "6d6fcbe7-d6f7-4f09-af3d-467a0898c479",
   "metadata": {},
   "outputs": [],
   "source": []
  }
 ],
 "metadata": {
  "kernelspec": {
   "display_name": "Bash",
   "language": "bash",
   "name": "bash"
  },
  "language_info": {
   "codemirror_mode": "shell",
   "file_extension": ".sh",
   "mimetype": "text/x-sh",
   "name": "bash"
  }
 },
 "nbformat": 4,
 "nbformat_minor": 5
}
