{
 "cells": [
  {
   "cell_type": "markdown",
   "id": "5dc7c8be-8133-45e5-8558-46f4e7135823",
   "metadata": {},
   "source": [
    "# Herramientas Parte 2\n",
    "\n",
    "EN esta parte se revisan los comandos `dir, cp, mv, rm, mkdir, rmdir, ln, chgrp, chmod, chown, touch, find`\n",
    "\n",
    "## Creación de directorios"
   ]
  },
  {
   "cell_type": "code",
   "execution_count": 1,
   "id": "533d6fcf-79e4-45f1-bd8c-e44d93dc9b29",
   "metadata": {},
   "outputs": [
    {
     "name": "stdout",
     "output_type": "stream",
     "text": [
      "TEST\n",
      "./TEST:\n",
      "./TEST/SUBT:\n",
      "SUBT\n"
     ]
    }
   ],
   "source": [
    "cd $HOME/TAREAS/IAA\n",
    "\n",
    "# creación de directorios\n",
    "\n",
    "mkdir TEST\n",
    "\n",
    "# crea subdirectorio SUBT en TEST\n",
    "\n",
    "mkdir TEST/SUBT\n",
    "\n",
    "#se puede usar de forma resumida mkdir -p TEST/SUBT\n",
    "# Verifica que estén los directorios\n",
    "\n",
    "ls -R |grep TEST\n",
    "ls TEST"
   ]
  },
  {
   "cell_type": "markdown",
   "id": "6e9899e1-8fb2-4ea8-aed0-1dcc37b9ad81",
   "metadata": {},
   "source": [
    "# Renombrando directorios\n",
    "\n",
    "para cambiar el nombre de un directorio se emplea el comando `mv`"
   ]
  },
  {
   "cell_type": "code",
   "execution_count": 2,
   "id": "990cd444-f365-458a-be78-7357326f6631",
   "metadata": {},
   "outputs": [
    {
     "name": "stdout",
     "output_type": "stream",
     "text": [
      "mv: falta el fichero de destino después de 'TEST'\n",
      "Pruebe 'mv --help' para más información.\n"
     ]
    },
    {
     "ename": "",
     "evalue": "1",
     "output_type": "error",
     "traceback": []
    }
   ],
   "source": [
    "mv TEST\n"
   ]
  },
  {
   "cell_type": "markdown",
   "id": "843e8d5d-710d-4177-8c0b-a6fa7ac274b1",
   "metadata": {},
   "source": [
    "# Contenido de los directorios\n",
    "\n"
   ]
  },
  {
   "cell_type": "code",
   "execution_count": 3,
   "id": "beccf68e-9b0d-495e-ac5d-c18d4df5efda",
   "metadata": {},
   "outputs": [
    {
     "name": "stdout",
     "output_type": "stream",
     "text": [
      "bash: NUEVO/listado.txt: No existe el fichero o el directorio\n",
      "touch: no se puede efectuar `touch' sobre 'NUEVO/ejemplo.txt': No existe el fichero o el directorio\n",
      "dir: no se puede acceder a 'NUEVO': No existe el fichero o el directorio\n"
     ]
    },
    {
     "ename": "",
     "evalue": "2",
     "output_type": "error",
     "traceback": []
    }
   ],
   "source": [
    " # Se crea un nuevo archivo con la lista de archivos y directorios\n",
    " ls > NUEVO/listado.txt\n",
    " touch NUEVO/ejemplo.txt\n",
    " dir -l NUEVO"
   ]
  },
  {
   "cell_type": "markdown",
   "id": "258db636-e02b-4597-b9ca-1a6567e342ce",
   "metadata": {},
   "source": [
    "# Borrado de directorios vacíos\n",
    "\n"
   ]
  },
  {
   "cell_type": "code",
   "execution_count": 4,
   "id": "26cc9b81-539f-47bd-9574-881a734d6af6",
   "metadata": {},
   "outputs": [
    {
     "name": "stdout",
     "output_type": "stream",
     "text": [
      "rmdir: fallo al borrar 'NUEVO/SUBT': No existe el fichero o el directorio\n",
      "ls: no se puede acceder a 'NUEVO': No existe el fichero o el directorio\n"
     ]
    },
    {
     "ename": "",
     "evalue": "2",
     "output_type": "error",
     "traceback": []
    }
   ],
   "source": [
    "rmdir NUEVO/SUBT\n",
    "ls NUEVO"
   ]
  },
  {
   "cell_type": "markdown",
   "id": "133e0bb1-8497-474c-af3e-194fde7c2581",
   "metadata": {},
   "source": [
    "# Borrado de directorios no vacíos"
   ]
  },
  {
   "cell_type": "code",
   "execution_count": 5,
   "id": "b1c26c7e-8a5f-4d9e-a4ad-92ad350682e1",
   "metadata": {},
   "outputs": [
    {
     "name": "stdout",
     "output_type": "stream",
     "text": [
      ".:\n",
      " combinado.txt           Herramientas_2.ipynb   lista_Est.txt\n",
      " compuestos.txt          id_est.txt             list_Est_lon_lat.txt\n",
      " covidM.csv              lista_comp1.txt        loc\n",
      " des_estaciones.dat      lista_comp_esp.txt     loc.txt\n",
      "'Ejercicio 1.ipynb'      lista_comp.txt         TEST\n",
      " estaciones_unicas.txt   lista.dat\n",
      " Herramientas_1.ipynb    lista_Est_tab.txt\n",
      "\n",
      "./TEST:\n",
      "SUBT\n",
      "\n",
      "./TEST/SUBT:\n",
      ".:\n",
      " combinado.txt           Herramientas_2.ipynb   lista_Est.txt\n",
      " compuestos.txt          id_est.txt             list_Est_lon_lat.txt\n",
      " covidM.csv              lista_comp1.txt        loc\n",
      " des_estaciones.dat      lista_comp_esp.txt     loc.txt\n",
      "'Ejercicio 1.ipynb'      lista_comp.txt         TEST\n",
      " estaciones_unicas.txt   lista.dat\n",
      " Herramientas_1.ipynb    lista_Est_tab.txt\n",
      "\n",
      "./TEST:\n",
      "SUBT\n",
      "\n",
      "./TEST/SUBT:\n"
     ]
    }
   ],
   "source": [
    "ls -R\n",
    "rm -rf NUEVO\n",
    "ls -R"
   ]
  },
  {
   "cell_type": "markdown",
   "id": "0381ee96-436b-40a7-a177-5bd7b4cef11a",
   "metadata": {},
   "source": [
    "# Grupos y usuarios\n",
    "\n",
    "Cambio con `chmod`"
   ]
  },
  {
   "cell_type": "code",
   "execution_count": 11,
   "id": "dac5dbcd-7ef1-458a-88c4-48475fa6e9e0",
   "metadata": {},
   "outputs": [
    {
     "name": "stdout",
     "output_type": "stream",
     "text": [
      "--w--w--w- 1 alumno03 alumno03 0 jun 15 11:39 ejemplo.txt\n",
      " \n",
      "--w--w--w- 1 alumno03 alumno03 0 jun 15 11:39 ejemplo.txt\n",
      " \n",
      "--w--w--w- 1 alumno03 alumno03 0 jun 15 11:39 ejemplo.txt\n"
     ]
    }
   ],
   "source": [
    "touch ejemplo.txt\n",
    "ls -l ejemplo.*t\n",
    "chmod a+w ejemplo.txt\n",
    "echo \" \"\n",
    "ls -l ejemp*t\n",
    "echo \" \"\n",
    "chmod g-r ejemplo.txt\n",
    "ls -l ejemplo.?xt"
   ]
  },
  {
   "cell_type": "markdown",
   "id": "aa736587-27c9-4617-ade2-96b89b9ac07b",
   "metadata": {},
   "source": [
    "# Uso de find\n",
    "\n",
    "para encontrar archivos \n",
    "\n"
   ]
  },
  {
   "cell_type": "code",
   "execution_count": 18,
   "id": "074f87da-de35-42e3-b577-dc80ff29a27d",
   "metadata": {},
   "outputs": [
    {
     "name": "stdout",
     "output_type": "stream",
     "text": [
      "./DAN/ejemplo.txt\n",
      "./IAA/ejemplo.txt\n",
      "./FAV/ejemplo.txt\n",
      "./jimena/ejemplo.txt\n",
      "./JAGR/ejemplo.txt\n",
      "./enrique/ejemplo.txt\n",
      "/home/curso2022/alumno03/../TAREAS/DAN/lista.dat /home/curso2022/alumno03/../TAREAS/IAA/lista.dat /home/curso2022/alumno03/../TAREAS/FAV/lista.dat /home/curso2022/alumno03/../TAREAS/jimena/lista.dat /home/curso2022/alumno03/../TAREAS/JAGR/lista.dat /home/curso2022/alumno03/../TAREAS/Donnet/lista.dat /home/curso2022/alumno03/../TAREAS/enrique/lista.dat\n"
     ]
    }
   ],
   "source": [
    "cd $HOME/../TAREAS\n",
    "\n",
    "find . -name ejemplo.txt\n",
    "\n",
    "LISTA=$(find $HOME/../TAREAS -name lista.dat)\n",
    "echo $LISTA | cut -f1"
   ]
  },
  {
   "cell_type": "code",
   "execution_count": null,
   "id": "b0571bf3-7e6d-401c-bd82-a113b12673ba",
   "metadata": {},
   "outputs": [],
   "source": []
  }
 ],
 "metadata": {
  "kernelspec": {
   "display_name": "Bash",
   "language": "bash",
   "name": "bash"
  },
  "language_info": {
   "codemirror_mode": "shell",
   "file_extension": ".sh",
   "mimetype": "text/x-sh",
   "name": "bash"
  }
 },
 "nbformat": 4,
 "nbformat_minor": 5
}
